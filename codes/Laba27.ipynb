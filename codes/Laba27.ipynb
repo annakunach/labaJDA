{
 "cells": [
  {
   "cell_type": "markdown",
   "id": "97c2913b-893a-47f6-ac0f-95e8cddece31",
   "metadata": {},
   "source": [
    "# Redukcja wymiarowości i klasteryzacja"
   ]
  },
  {
   "cell_type": "code",
   "execution_count": null,
   "id": "9a8264e8-bad1-481a-990a-606e6221ff4b",
   "metadata": {},
   "outputs": [],
   "source": [
    "import numpy as np\n",
    "import pandas as pd\n",
    "import seaborn as sns\n",
    "import matplotlib.pyplot as plt\n",
    "from sklearn.cluster import KMeans, DBSCAN, AgglomerativeClustering\n",
    "from scipy.cluster.hierarchy import linkage, dendrogram, fcluster\n",
    "from sklearn.decomposition import PCA\n",
    "from sklearn.datasets import make_blobs, make_circles\n",
    "from sklearn.metrics import silhouette_score"
   ]
  },
  {
   "cell_type": "code",
   "execution_count": null,
   "id": "4307cfe8-72c7-49bd-98c0-7b62a000c271",
   "metadata": {},
   "outputs": [],
   "source": [
    "## Brak printowania warningsów\n",
    "#import warnings\n",
    "#warnings.filterwarnings(\"ignore\")"
   ]
  },
  {
   "cell_type": "code",
   "execution_count": null,
   "id": "1a3d2bbd-3bdf-41c0-beaf-c717aaa1cd1f",
   "metadata": {},
   "outputs": [],
   "source": [
    "# Tworzymy losowy zbiór danych składający się z 300 próbek podzielonych na 4 klastry.\n",
    "data, labels = make_blobs(n_samples=300, centers=4, cluster_std=0.60, random_state=42)\n",
    "\n",
    "# Wizualizacja danych na wykresie.\n",
    "plt.scatter(data[:, 0], data[:, 1])\n",
    "plt.title(\"Przykładowe dane do klasteryzacji\")\n",
    "plt.show()\n"
   ]
  },
  {
   "cell_type": "code",
   "execution_count": null,
   "id": "41358568-8898-44f1-9173-c2e4f2710f47",
   "metadata": {},
   "outputs": [],
   "source": [
    "# Wykorzystujemy algorytm K-Means do znalezienia 4 klastrów.\n",
    "kmeans = KMeans(n_clusters=4, random_state=42)\n",
    "kmeans.fit(data)\n",
    "clusters = kmeans.predict(data)\n",
    "\n",
    "# Wizualizacja wyników klasteryzacji.\n",
    "plt.scatter(data[:, 0], data[:, 1], c=clusters, cmap='viridis')\n",
    "plt.scatter(kmeans.cluster_centers_[:, 0], kmeans.cluster_centers_[:, 1], s=100, c='red', marker='X')\n",
    "plt.title(\"Wynik klasteryzacji K-Means\")\n",
    "plt.show()\n"
   ]
  },
  {
   "cell_type": "markdown",
   "id": "3240282f-2cab-4156-87cc-d3e5cddf9935",
   "metadata": {},
   "source": [
    "### Ćwiczenie: \n",
    "Wykonaj klasteryzację dla innej liczby centr.\n"
   ]
  },
  {
   "cell_type": "markdown",
   "id": "6f1c24d4-bd1a-4d0e-8e4b-e6bd9c76c0c7",
   "metadata": {},
   "source": [
    "## Metoda Elbow do wyboru optymalnej liczby klastrów\n",
    "Obliczamy wartość bezwładności (inertia) dla różnych wartości k."
   ]
  },
  {
   "cell_type": "code",
   "execution_count": null,
   "id": "985f421e-fdd5-4765-98dc-b03d91c798cc",
   "metadata": {},
   "outputs": [],
   "source": [
    "# Obliczamy wartość bezwładności (inertia) dla różnych wartości k.\n",
    "def plotuj_elbow(df, k_values = range(1, 11)):\n",
    "    inertia = []\n",
    "    for k in k_values:\n",
    "        kmeans = KMeans(n_clusters=k, random_state=42)\n",
    "        kmeans.fit(df)\n",
    "        inertia.append(kmeans.inertia_)\n",
    "    \n",
    "    # Wizualizacja metody Elbow na wykresie.\n",
    "    plt.plot(k_values, inertia, marker='o')\n",
    "    plt.xlabel('Liczba klastrów')\n",
    "    plt.ylabel('Inertia')\n",
    "    plt.title('Metoda Elbow')\n",
    "    plt.show()\n",
    "\n",
    "plotuj_elbow(data)"
   ]
  },
  {
   "cell_type": "markdown",
   "id": "f813e913-df35-4ae7-83fd-c4aa88ca0ef4",
   "metadata": {},
   "source": [
    "### Ćwiczenie: \n",
    "Wykonaj analizę Elbow dla innego zbioru danych.\n"
   ]
  },
  {
   "cell_type": "code",
   "execution_count": null,
   "id": "c02109d3-91a0-4cf9-b2d3-01c8ba16a00e",
   "metadata": {},
   "outputs": [],
   "source": []
  },
  {
   "cell_type": "markdown",
   "id": "12daa1b6-4146-48e0-befe-ba200dab98e6",
   "metadata": {},
   "source": [
    "## AHCA"
   ]
  },
  {
   "cell_type": "code",
   "execution_count": null,
   "id": "42000a31-d97d-48f7-a652-4fd088ceeb03",
   "metadata": {},
   "outputs": [],
   "source": [
    "from scipy.cluster.hierarchy import linkage, dendrogram, fcluster\n",
    "\n",
    "# Obliczanie hierarchicznej klasteryzacji\n",
    "Z = linkage(data, method='ward')\n",
    "\n",
    "# Wizualizacja dendrogramu\n",
    "plt.figure(figsize=(10, 5))\n",
    "dendrogram(Z)\n",
    "plt.title(\"Dendrogram klasteryzacji hierarchicznej\")\n",
    "plt.xlabel(\"Próbki\")\n",
    "plt.ylabel(\"Odległość\")\n",
    "plt.show()\n",
    "\n",
    "# Tworzenie klastrów na podstawie wysokości przecięcia dendrogramu\n",
    "num_clusters = 4\n",
    "clusters = fcluster(Z, num_clusters, criterion='maxclust')\n",
    "\n",
    "# Wizualizacja klastrów\n",
    "plt.scatter(data[:, 0], data[:, 1], c=clusters, cmap='viridis', edgecolors='k')\n",
    "plt.title(\"Wynik klasteryzacji hierarchicznej\")\n",
    "plt.show()"
   ]
  },
  {
   "cell_type": "markdown",
   "id": "3b5e9622-edc2-427d-8553-671535dfb9ac",
   "metadata": {},
   "source": [
    "## DBScan"
   ]
  },
  {
   "cell_type": "code",
   "execution_count": null,
   "id": "05bba7f5-9b9c-4238-b12c-a19e264f9b6b",
   "metadata": {},
   "outputs": [],
   "source": [
    "from sklearn.cluster import DBSCAN\n",
    "\n",
    "# Zastosowanie DBSCAN\n",
    "dbscan = DBSCAN(eps=.2, min_samples=5)\n",
    "clusters = dbscan.fit_predict(data)\n",
    "\n",
    "# Wizualizacja klastrów\n",
    "plt.scatter(data[:, 0], data[:, 1], c=clusters, cmap='viridis', edgecolors='k')\n",
    "plt.title(\"Wynik klasteryzacji hierarchicznej\")\n",
    "plt.show()"
   ]
  },
  {
   "cell_type": "markdown",
   "id": "bfc95519-59c5-40d2-9f6d-ce653fadc890",
   "metadata": {},
   "source": [
    "## Silhouette"
   ]
  },
  {
   "cell_type": "code",
   "execution_count": null,
   "id": "3b2ead01-bd70-4f8d-84b0-a03dbf7956fd",
   "metadata": {},
   "outputs": [],
   "source": [
    "# Obliczamy wskaźnik Silhouette, który mierzy jakość klasteryzacji.\n",
    "def plotuj_silhouette(df, k_values = range(2,11)):\n",
    "    silhouettes = []\n",
    "    for k in k_values:\n",
    "        kmeans = KMeans(n_clusters=k, random_state=42)\n",
    "        silhouettes.append(silhouette_score(df, kmeans.fit_predict(df)))\n",
    "\n",
    "    # Wizualizacja metody Silhouette na wykresie.\n",
    "    plt.plot(k_values, silhouettes, marker='o')\n",
    "    plt.xlabel('Liczba klastrów')\n",
    "    plt.ylabel('Wartość silhouette')\n",
    "    plt.title('Metoda Silhouette')\n",
    "    plt.show()\n",
    "    \n",
    "plotuj_silhouette(data)"
   ]
  },
  {
   "cell_type": "markdown",
   "id": "deaa1bd0-889b-48c2-9eea-b5cf3cbfd0e4",
   "metadata": {},
   "source": [
    "### Ćwiczenie:\n",
    "Napisz silhouette pod różne poziomy eps dla DBSCAN"
   ]
  },
  {
   "cell_type": "code",
   "execution_count": null,
   "id": "41f95311-606f-4210-b557-55ab6a061708",
   "metadata": {},
   "outputs": [],
   "source": []
  },
  {
   "cell_type": "markdown",
   "id": "6bec7dc4-50df-4d61-a727-2b7033a65b7e",
   "metadata": {},
   "source": [
    "## Redukcja wymiarowości - PCA"
   ]
  },
  {
   "cell_type": "code",
   "execution_count": null,
   "id": "a02b5733-6690-437c-8f33-f123767a16f6",
   "metadata": {},
   "outputs": [],
   "source": [
    "pca = PCA()\n",
    "data_pca = pca.fit_transform(data)\n",
    "\n",
    "plt.scatter(data_pca[:, 0], data_pca[:, 1])\n",
    "plt.title(\"Przykładowe dane do klasteryzacji\")\n",
    "plt.show()"
   ]
  },
  {
   "cell_type": "code",
   "execution_count": null,
   "id": "ea3699b5-f156-42c8-a2cf-4d187cbd9fd9",
   "metadata": {},
   "outputs": [],
   "source": [
    "iris = sns.load_dataset(\"iris\")  # Klasyczny zbiór dotyczący kwiatów irysów\n",
    "\n",
    "pca = PCA() # n_components\n",
    "pca_iris = pca.fit_transform(iris.drop(columns = ['species']))\n",
    "\n",
    "sns.scatterplot(x = pca_iris[:, 0], y = pca_iris[:, 1], hue = iris['species'])\n",
    "plt.title(\"Wizualizacja PCA irysów - 2 pierwsze komponenty\")\n",
    "plt.show()"
   ]
  },
  {
   "cell_type": "code",
   "execution_count": null,
   "id": "6cbe30c7-9367-4f36-b577-c0a1d6ce8277",
   "metadata": {},
   "outputs": [],
   "source": [
    "# Tworzenie komponentów\n",
    "pca.components_"
   ]
  },
  {
   "cell_type": "code",
   "execution_count": null,
   "id": "864a81c4-534e-4e6d-b74b-9acc21bfe282",
   "metadata": {},
   "outputs": [],
   "source": [
    "explained_variance = np.cumsum(pca.explained_variance_ratio_)\n",
    "# Wizualizacja skumulowanej wariancji\n",
    "plt.plot(np.arange(1, len(explained_variance)+1), explained_variance, marker='o')\n",
    "plt.xlabel('Liczba komponentów')\n",
    "plt.ylabel('Skumulowana wariancja')\n",
    "plt.title('Skumulowana wariancja wyjaśniona przez PCA')\n",
    "plt.ylim([-0,1.05])\n",
    "plt.grid()\n",
    "plt.show()"
   ]
  },
  {
   "cell_type": "code",
   "execution_count": null,
   "id": "728afd0b-6cc2-491b-b92d-c9190f0dc911",
   "metadata": {},
   "outputs": [],
   "source": [
    "print(f\"Procent wyjaśnionej wariancji: {pca.explained_variance_ratio_}\")\n"
   ]
  },
  {
   "cell_type": "markdown",
   "id": "807065d8-d5b4-42f0-bead-393a7135430a",
   "metadata": {},
   "source": [
    "### Ćwiczenie: \n",
    "Zmodyfikuj liczbę komponentów w PCA i sprawdź, jak to wpływa na wyniki."
   ]
  },
  {
   "cell_type": "code",
   "execution_count": null,
   "id": "e81948fb-bdfd-4bba-a108-b84c38fa77bd",
   "metadata": {},
   "outputs": [],
   "source": []
  },
  {
   "cell_type": "markdown",
   "id": "360b7c14-04a1-4ec7-81da-eb0a35193b74",
   "metadata": {},
   "source": [
    "## Klasteryzacja K-Means po PCA"
   ]
  },
  {
   "cell_type": "code",
   "execution_count": null,
   "id": "d7e57979-1461-4882-a71c-474207111fe6",
   "metadata": {},
   "outputs": [],
   "source": [
    "# Ponownie wykonujemy klasteryzację K-Means na zredukowanych danych.\n",
    "kmeans_pca = KMeans(n_clusters=3, random_state=42)\n",
    "kmeans_pca.fit(pca_iris)\n",
    "clusters_pca = kmeans_pca.predict(pca_iris)\n",
    "\n",
    "# Wizualizacja wyników po redukcji wymiarowości PCA.\n",
    "plt.scatter(pca_iris[:, 0], pca_iris[:, 1], c=clusters_pca, cmap='viridis')\n",
    "plt.scatter(kmeans_pca.cluster_centers_[:, 0], kmeans_pca.cluster_centers_[:, 1], s=200, c='red', marker='X')\n",
    "plt.title(\"Klasteryzacja K-Means po redukcji wymiarowości PCA\")\n",
    "plt.show()"
   ]
  },
  {
   "cell_type": "code",
   "execution_count": null,
   "id": "9a8843ae-4e42-43e2-8c29-094e623f2f79",
   "metadata": {},
   "outputs": [],
   "source": [
    "plotuj_silhouette(pca_iris[:,:2])"
   ]
  },
  {
   "cell_type": "markdown",
   "id": "a3ea132b-d069-41ed-91c6-3fba2ee78a35",
   "metadata": {},
   "source": [
    "### Ćwiczenie: \n",
    "Porównaj wyniki klasteryzacji przed i po PCA."
   ]
  },
  {
   "cell_type": "code",
   "execution_count": null,
   "id": "3525b33b-32e7-426a-9db8-2587c241cf29",
   "metadata": {},
   "outputs": [],
   "source": []
  },
  {
   "cell_type": "markdown",
   "id": "11efb8f3-b78f-4705-ac8a-84be9f28f19a",
   "metadata": {},
   "source": [
    "## Przykład, gdzie K-Means nie działa"
   ]
  },
  {
   "cell_type": "code",
   "execution_count": null,
   "id": "6be93a50-3433-48e5-808b-38323c03810b",
   "metadata": {},
   "outputs": [],
   "source": [
    "# Tworzymy zbiór danych w kształcie dwóch koncentrycznych okręgów\n",
    "data_circles, labels_circles = make_circles(n_samples=500, factor=0.5, noise=0.05)\n",
    "\n",
    "plt.figure(figsize=(5,5))\n",
    "sns.scatterplot(x = data_circles[:,0], y = data_circles[:,1], hue = labels_circles)\n",
    "plt.show()\n",
    "\n",
    "plotuj_elbow(data_circles[:,:2])\n",
    "plotuj_silhouette(data_circles[:,:2])"
   ]
  },
  {
   "cell_type": "code",
   "execution_count": null,
   "id": "07856dd2-a48d-46ee-ab7a-88b29e372364",
   "metadata": {},
   "outputs": [],
   "source": [
    "plt.figure(figsize=(5,5))\n",
    "kmeans_circles = KMeans(n_clusters=2, random_state=42)\n",
    "kmeans_circles.fit(data_circles)\n",
    "clusters_circles = kmeans_circles.predict(data_circles)\n",
    "\n",
    "# Wizualizacja wyników\n",
    "plt.scatter(data_circles[:, 0], data_circles[:, 1], c=clusters_circles, cmap='viridis')\n",
    "plt.title(\"Klasteryzacja K-Means - problematyczny przypadek\")\n",
    "plt.show()"
   ]
  },
  {
   "cell_type": "code",
   "execution_count": null,
   "id": "93471695-2081-4443-9563-4fa3f33537f9",
   "metadata": {},
   "outputs": [],
   "source": [
    "plt.figure(figsize=(5,5))\n",
    "# DBSCAN - metoda oparta na gęstości\n",
    "print(\"Przykład klasteryzacji metodą DBSCAN.\")\n",
    "dbscan = DBSCAN(eps=0.2, min_samples=5)\n",
    "clusters_dbscan = dbscan.fit_predict(data_circles)\n",
    "plt.scatter(data_circles[:, 0], data_circles[:, 1], c=clusters_dbscan, cmap='plasma')\n",
    "plt.title(\"Klasteryzacja DBSCAN\")\n",
    "plt.show()\n"
   ]
  },
  {
   "cell_type": "code",
   "execution_count": null,
   "id": "27ce592f-1375-4346-a0d9-ce106af603d8",
   "metadata": {},
   "outputs": [],
   "source": []
  }
 ],
 "metadata": {
  "kernelspec": {
   "display_name": "Python 3 (ipykernel)",
   "language": "python",
   "name": "python3"
  },
  "language_info": {
   "codemirror_mode": {
    "name": "ipython",
    "version": 3
   },
   "file_extension": ".py",
   "mimetype": "text/x-python",
   "name": "python",
   "nbconvert_exporter": "python",
   "pygments_lexer": "ipython3",
   "version": "3.10.9"
  }
 },
 "nbformat": 4,
 "nbformat_minor": 5
}
